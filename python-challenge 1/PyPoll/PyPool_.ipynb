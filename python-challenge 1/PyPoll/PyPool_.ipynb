{
  "nbformat": 4,
  "nbformat_minor": 0,
  "metadata": {
    "colab": {
      "provenance": []
    },
    "kernelspec": {
      "name": "python3",
      "display_name": "Python 3"
    },
    "language_info": {
      "name": "python"
    }
  },
  "cells": [
    {
      "cell_type": "markdown",
      "source": [
        "Python Analysis of Budget Data"
      ],
      "metadata": {
        "id": "UVLlKQceYu59"
      }
    },
    {
      "cell_type": "code",
      "source": [
        "import pandas as pd\n",
        "import numpy as np"
      ],
      "metadata": {
        "id": "hukMpP-Qsha-"
      },
      "execution_count": null,
      "outputs": []
    },
    {
      "cell_type": "code",
      "source": [
        "# Load the dataset\n",
        "df = pd.read_csv('election_data.csv')\n",
        "\n",
        "# Solution as required\n",
        "# Total number of vote casted. This is the number or the length of the dataset\n",
        "total_votes = len(df)\n",
        "\n",
        "# Vote counts for each candidate\n",
        "vote_counts = df['Candidate'].value_counts()\n",
        "\n",
        "# Percentages and format results\n",
        "results = []\n",
        "for candidate, votes in vote_counts.items():\n",
        "    percentage = (votes / total_votes) * 100\n",
        "    results.append(f\"{candidate}: {percentage:.3f}% ({votes})\")\n",
        "\n",
        "# The Winner\n",
        "winner = vote_counts.idxmax()\n",
        "\n",
        "# Print the election results\n",
        "print(\"Election Results\")\n",
        "print(\"-------------------------\")\n",
        "print(f\"Total Votes: {total_votes}\")\n",
        "print(\"-------------------------\")\n",
        "\n",
        "# Print out each candidate's name, vote count, and percentage of votes\n",
        "for candidate, votes in vote_counts.items():\n",
        "    percentage = (votes / total_votes) * 100\n",
        "    print(f\"{candidate}: {percentage:.3f}% ({votes})\")\n",
        "\n",
        "print(\"-------------------------\")\n",
        "print(f\"Winner: {winner}\")\n",
        "print(\"-------------------------\")"
      ],
      "metadata": {
        "colab": {
          "base_uri": "https://localhost:8080/"
        },
        "id": "L5qy-Qt2Y16O",
        "outputId": "719bb5a4-ce1f-411c-a955-712db297e68d"
      },
      "execution_count": null,
      "outputs": [
        {
          "output_type": "stream",
          "name": "stdout",
          "text": [
            "Election Results\n",
            "-------------------------\n",
            "Total Votes: 369711\n",
            "-------------------------\n",
            "Diana DeGette: 73.812% (272892)\n",
            "Charles Casper Stockham: 23.049% (85213)\n",
            "Raymon Anthony Doane: 3.139% (11606)\n",
            "-------------------------\n",
            "Winner: Diana DeGette\n",
            "-------------------------\n"
          ]
        }
      ]
    },
    {
      "cell_type": "code",
      "source": [
        "# Define the election results text\n",
        "election_results_text = (\n",
        "    \"Election Results\\n\"\n",
        "    \"-------------------------\\n\"\n",
        "    f\"Total Votes: {total_votes}\\n\"\n",
        "    \"-------------------------\\n\"\n",
        ")\n",
        "for candidate, votes in vote_counts.items():\n",
        "    percentage = (votes / total_votes) * 100\n",
        "    election_results_text += f\"{candidate}: {percentage:.3f}% ({votes})\\n\"\n",
        "election_results_text += (\n",
        "    \"-------------------------\\n\"\n",
        "    f\"Winner: {winner}\\n\"\n",
        "    \"-------------------------\\n\"\n",
        ")\n",
        "\n",
        "# Print the election results to the terminal\n",
        "print(election_results_text)\n",
        "\n",
        "# Save the election results to a text file\n",
        "election_filename = 'election_results.txt'\n",
        "with open(election_filename, 'w') as text_file:\n",
        "    text_file.write(election_results_text)\n",
        "\n",
        "# Download the file to your local system\n",
        "from google.colab import files\n",
        "files.download(election_filename)  # Make sure the filename matches"
      ],
      "metadata": {
        "colab": {
          "base_uri": "https://localhost:8080/",
          "height": 218
        },
        "id": "kcYoTWTfsaQP",
        "outputId": "280734ad-07f1-4aa1-e842-e3494411813d"
      },
      "execution_count": null,
      "outputs": [
        {
          "output_type": "stream",
          "name": "stdout",
          "text": [
            "Election Results\n",
            "-------------------------\n",
            "Total Votes: 369711\n",
            "-------------------------\n",
            "Diana DeGette: 73.812% (272892)\n",
            "Charles Casper Stockham: 23.049% (85213)\n",
            "Raymon Anthony Doane: 3.139% (11606)\n",
            "-------------------------\n",
            "Winner: Diana DeGette\n",
            "-------------------------\n",
            "\n"
          ]
        },
        {
          "output_type": "display_data",
          "data": {
            "text/plain": [
              "<IPython.core.display.Javascript object>"
            ],
            "application/javascript": [
              "\n",
              "    async function download(id, filename, size) {\n",
              "      if (!google.colab.kernel.accessAllowed) {\n",
              "        return;\n",
              "      }\n",
              "      const div = document.createElement('div');\n",
              "      const label = document.createElement('label');\n",
              "      label.textContent = `Downloading \"${filename}\": `;\n",
              "      div.appendChild(label);\n",
              "      const progress = document.createElement('progress');\n",
              "      progress.max = size;\n",
              "      div.appendChild(progress);\n",
              "      document.body.appendChild(div);\n",
              "\n",
              "      const buffers = [];\n",
              "      let downloaded = 0;\n",
              "\n",
              "      const channel = await google.colab.kernel.comms.open(id);\n",
              "      // Send a message to notify the kernel that we're ready.\n",
              "      channel.send({})\n",
              "\n",
              "      for await (const message of channel.messages) {\n",
              "        // Send a message to notify the kernel that we're ready.\n",
              "        channel.send({})\n",
              "        if (message.buffers) {\n",
              "          for (const buffer of message.buffers) {\n",
              "            buffers.push(buffer);\n",
              "            downloaded += buffer.byteLength;\n",
              "            progress.value = downloaded;\n",
              "          }\n",
              "        }\n",
              "      }\n",
              "      const blob = new Blob(buffers, {type: 'application/binary'});\n",
              "      const a = document.createElement('a');\n",
              "      a.href = window.URL.createObjectURL(blob);\n",
              "      a.download = filename;\n",
              "      div.appendChild(a);\n",
              "      a.click();\n",
              "      div.remove();\n",
              "    }\n",
              "  "
            ]
          },
          "metadata": {}
        },
        {
          "output_type": "display_data",
          "data": {
            "text/plain": [
              "<IPython.core.display.Javascript object>"
            ],
            "application/javascript": [
              "download(\"download_07470140-6c8b-46b5-be18-b9fd2bbdfb5a\", \"election_results.txt\", 273)"
            ]
          },
          "metadata": {}
        }
      ]
    },
    {
      "cell_type": "code",
      "source": [],
      "metadata": {
        "id": "BsX2yQn3um8y"
      },
      "execution_count": null,
      "outputs": []
    }
  ]
}