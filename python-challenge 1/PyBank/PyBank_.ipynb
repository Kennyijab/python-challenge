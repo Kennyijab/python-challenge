{
  "nbformat": 4,
  "nbformat_minor": 0,
  "metadata": {
    "colab": {
      "provenance": []
    },
    "kernelspec": {
      "name": "python3",
      "display_name": "Python 3"
    },
    "language_info": {
      "name": "python"
    }
  },
  "cells": [
    {
      "cell_type": "markdown",
      "source": [
        "Python Analysis of Budget Data"
      ],
      "metadata": {
        "id": "ts-iMUvrVPyh"
      }
    },
    {
      "cell_type": "code",
      "source": [
        "#Import pandas to wrangle dataframes\n",
        "import pandas as pd\n",
        "import numpy as np"
      ],
      "metadata": {
        "id": "XQcSfgz4V3g5"
      },
      "execution_count": null,
      "outputs": []
    },
    {
      "cell_type": "code",
      "source": [
        "#Load the dataset\n",
        "df = pd.read_csv('budget_data.csv')\n",
        "\n",
        "#Total number of months\n",
        "total_months = len(df)\n",
        "\n",
        "# Net total amount of \"Profit/Losses\" over the entire period\n",
        "total_profit_losses = df['Profit/Losses'].sum()\n",
        "\n",
        "# Changes in \"Profit/Losses\" over the entire period\n",
        "df['Change'] = df['Profit/Losses'].diff()\n",
        "\n",
        "# Average of changes in \"Profit/Losses\"\n",
        "average_change = df['Change'].mean()\n",
        "\n",
        "# The greatest increase in profits\n",
        "greatest_increase = df['Change'].max()\n",
        "greatest_increase_date = df.loc[df['Change'] == greatest_increase, 'Date'].iloc[0]\n",
        "\n",
        "# The greatest decrease in profits\n",
        "greatest_decrease = df['Change'].min()\n",
        "greatest_decrease_date = df.loc[df['Change'] == greatest_decrease, 'Date'].iloc[0]\n",
        "\n",
        "# Result\n",
        "print(\"Financial Analysis\")\n",
        "print(\"----------------------------\")\n",
        "print(f\"Total Months: {total_months}\")\n",
        "print(f\"Total: ${total_profit_losses}\")\n",
        "print(f\"Average Change: ${average_change:.2f}\")\n",
        "print(f\"Greatest Increase in Profits: {greatest_increase_date} (${int(greatest_increase)})\")\n",
        "print(f\"Greatest Decrease in Profits: {greatest_decrease_date} (${int(greatest_decrease)})\")"
      ],
      "metadata": {
        "colab": {
          "base_uri": "https://localhost:8080/"
        },
        "id": "Yw4OlfhGVmHR",
        "outputId": "42279b8a-ff15-4333-f86a-05a9883fa277"
      },
      "execution_count": null,
      "outputs": [
        {
          "output_type": "stream",
          "name": "stdout",
          "text": [
            "Financial Analysis\n",
            "----------------------------\n",
            "Total Months: 86\n",
            "Total: $22564198\n",
            "Average Change: $-8311.11\n",
            "Greatest Increase in Profits: Aug-16 ($1862002)\n",
            "Greatest Decrease in Profits: Feb-14 ($-1825558)\n"
          ]
        }
      ]
    },
    {
      "cell_type": "code",
      "source": [
        "#Export Result\n",
        "# Define the analysis_text variable with your analysis\n",
        "analysis_text = (\n",
        "    f\"Financial Analysis\\n\"\n",
        "    f\"----------------------------\\n\"\n",
        "    f\"Total Months: {total_months}\\n\"\n",
        "    f\"Total: ${total_profit_losses}\\n\"\n",
        "    f\"Average Change: ${average_change:.2f}\\n\"\n",
        "    f\"Greatest Increase in Profits: {greatest_increase_date} (${int(greatest_increase)})\\n\"\n",
        "    f\"Greatest Decrease in Profits: {greatest_decrease_date} (${int(greatest_decrease)})\\n\"\n",
        ")\n",
        "\n",
        "# Print the analysis to the terminal\n",
        "print(analysis_text)\n",
        "\n",
        "# Save the results to a text file\n",
        "with open('financial_analysis.txt', 'w') as text_file:\n",
        "    text_file.write(analysis_text)\n",
        "\n",
        "# Make sure the filename matches what you've saved\n",
        "from google.colab import files\n",
        "files.download('financial_analysis.txt')\n"
      ],
      "metadata": {
        "colab": {
          "base_uri": "https://localhost:8080/",
          "height": 163
        },
        "id": "tP8yv0cqW0pA",
        "outputId": "345f98bf-7b7a-4835-bb75-276e5efa1143"
      },
      "execution_count": null,
      "outputs": [
        {
          "output_type": "stream",
          "name": "stdout",
          "text": [
            "Financial Analysis\n",
            "----------------------------\n",
            "Total Months: 86\n",
            "Total: $22564198\n",
            "Average Change: $-8311.11\n",
            "Greatest Increase in Profits: Aug-16 ($1862002)\n",
            "Greatest Decrease in Profits: Feb-14 ($-1825558)\n",
            "\n"
          ]
        },
        {
          "output_type": "display_data",
          "data": {
            "text/plain": [
              "<IPython.core.display.Javascript object>"
            ],
            "application/javascript": [
              "\n",
              "    async function download(id, filename, size) {\n",
              "      if (!google.colab.kernel.accessAllowed) {\n",
              "        return;\n",
              "      }\n",
              "      const div = document.createElement('div');\n",
              "      const label = document.createElement('label');\n",
              "      label.textContent = `Downloading \"${filename}\": `;\n",
              "      div.appendChild(label);\n",
              "      const progress = document.createElement('progress');\n",
              "      progress.max = size;\n",
              "      div.appendChild(progress);\n",
              "      document.body.appendChild(div);\n",
              "\n",
              "      const buffers = [];\n",
              "      let downloaded = 0;\n",
              "\n",
              "      const channel = await google.colab.kernel.comms.open(id);\n",
              "      // Send a message to notify the kernel that we're ready.\n",
              "      channel.send({})\n",
              "\n",
              "      for await (const message of channel.messages) {\n",
              "        // Send a message to notify the kernel that we're ready.\n",
              "        channel.send({})\n",
              "        if (message.buffers) {\n",
              "          for (const buffer of message.buffers) {\n",
              "            buffers.push(buffer);\n",
              "            downloaded += buffer.byteLength;\n",
              "            progress.value = downloaded;\n",
              "          }\n",
              "        }\n",
              "      }\n",
              "      const blob = new Blob(buffers, {type: 'application/binary'});\n",
              "      const a = document.createElement('a');\n",
              "      a.href = window.URL.createObjectURL(blob);\n",
              "      a.download = filename;\n",
              "      div.appendChild(a);\n",
              "      a.click();\n",
              "      div.remove();\n",
              "    }\n",
              "  "
            ]
          },
          "metadata": {}
        },
        {
          "output_type": "display_data",
          "data": {
            "text/plain": [
              "<IPython.core.display.Javascript object>"
            ],
            "application/javascript": [
              "download(\"download_39e68b22-a46f-4073-9bf1-6eede7a0db5a\", \"financial_analysis.txt\", 205)"
            ]
          },
          "metadata": {}
        }
      ]
    },
    {
      "cell_type": "code",
      "source": [],
      "metadata": {
        "id": "SPOESXc6X7Lo"
      },
      "execution_count": null,
      "outputs": []
    }
  ]
}